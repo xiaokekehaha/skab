{
 "cells": [
  {
   "cell_type": "markdown",
   "metadata": {},
   "source": [
    "# Pipeline for the anomaly detection on the SKAB using LSTM-Autoencoder"
   ]
  },
  {
   "cell_type": "markdown",
   "metadata": {},
   "source": [
    "Details regarding the SKAB one can find in the [SKAB repository](https://github.com/waico/SKAB)."
   ]
  },
  {
   "cell_type": "code",
   "execution_count": 2,
   "metadata": {},
   "outputs": [],
   "source": [
    "# libraries importing\n",
    "import sys\n",
    "import warnings\n",
    "\n",
    "import numpy as np\n",
    "import pandas as pd\n",
    "from sklearn.preprocessing import StandardScaler\n",
    "\n",
    "sys.path.append(\"..\")\n",
    "from core.LSTM_AE import LSTM_AE\n",
    "from core.metrics import chp_score\n",
    "from core.utils import create_sequences, load_preprocess_skab, plot_results\n",
    "\n",
    "warnings.filterwarnings(\"ignore\", category=UserWarning)"
   ]
  },
  {
   "cell_type": "markdown",
   "metadata": {},
   "source": [
    "## Data"
   ]
  },
  {
   "cell_type": "code",
   "execution_count": 14,
   "metadata": {},
   "outputs": [
    {
     "data": {
      "text/html": [
       "<div>\n",
       "<style scoped>\n",
       "    .dataframe tbody tr th:only-of-type {\n",
       "        vertical-align: middle;\n",
       "    }\n",
       "\n",
       "    .dataframe tbody tr th {\n",
       "        vertical-align: top;\n",
       "    }\n",
       "\n",
       "    .dataframe thead th {\n",
       "        text-align: right;\n",
       "    }\n",
       "</style>\n",
       "<table border=\"1\" class=\"dataframe\">\n",
       "  <thead>\n",
       "    <tr style=\"text-align: right;\">\n",
       "      <th></th>\n",
       "      <th>Accelerometer1RMS</th>\n",
       "      <th>Accelerometer2RMS</th>\n",
       "      <th>Current</th>\n",
       "      <th>Pressure</th>\n",
       "      <th>Temperature</th>\n",
       "      <th>Thermocouple</th>\n",
       "      <th>Voltage</th>\n",
       "      <th>Volume Flow RateRMS</th>\n",
       "    </tr>\n",
       "    <tr>\n",
       "      <th>datetime</th>\n",
       "      <th></th>\n",
       "      <th></th>\n",
       "      <th></th>\n",
       "      <th></th>\n",
       "      <th></th>\n",
       "      <th></th>\n",
       "      <th></th>\n",
       "      <th></th>\n",
       "    </tr>\n",
       "  </thead>\n",
       "  <tbody>\n",
       "    <tr>\n",
       "      <th>2020-03-09 12:14:36</th>\n",
       "      <td>0.027429</td>\n",
       "      <td>0.040353</td>\n",
       "      <td>0.770310</td>\n",
       "      <td>0.382638</td>\n",
       "      <td>71.2129</td>\n",
       "      <td>25.0827</td>\n",
       "      <td>219.789</td>\n",
       "      <td>32.0000</td>\n",
       "    </tr>\n",
       "    <tr>\n",
       "      <th>2020-03-09 12:14:37</th>\n",
       "      <td>0.027269</td>\n",
       "      <td>0.040226</td>\n",
       "      <td>1.096960</td>\n",
       "      <td>0.710565</td>\n",
       "      <td>71.4284</td>\n",
       "      <td>25.0863</td>\n",
       "      <td>233.117</td>\n",
       "      <td>32.0104</td>\n",
       "    </tr>\n",
       "    <tr>\n",
       "      <th>2020-03-09 12:14:38</th>\n",
       "      <td>0.027040</td>\n",
       "      <td>0.039773</td>\n",
       "      <td>1.140150</td>\n",
       "      <td>0.054711</td>\n",
       "      <td>71.3468</td>\n",
       "      <td>25.0874</td>\n",
       "      <td>234.745</td>\n",
       "      <td>32.0000</td>\n",
       "    </tr>\n",
       "    <tr>\n",
       "      <th>2020-03-09 12:14:39</th>\n",
       "      <td>0.027563</td>\n",
       "      <td>0.040313</td>\n",
       "      <td>1.108680</td>\n",
       "      <td>-0.273216</td>\n",
       "      <td>71.3258</td>\n",
       "      <td>25.0897</td>\n",
       "      <td>205.254</td>\n",
       "      <td>32.0104</td>\n",
       "    </tr>\n",
       "    <tr>\n",
       "      <th>2020-03-09 12:14:41</th>\n",
       "      <td>0.026570</td>\n",
       "      <td>0.039566</td>\n",
       "      <td>0.704404</td>\n",
       "      <td>0.382638</td>\n",
       "      <td>71.2725</td>\n",
       "      <td>25.0831</td>\n",
       "      <td>212.095</td>\n",
       "      <td>33.0000</td>\n",
       "    </tr>\n",
       "    <tr>\n",
       "      <th>...</th>\n",
       "      <td>...</td>\n",
       "      <td>...</td>\n",
       "      <td>...</td>\n",
       "      <td>...</td>\n",
       "      <td>...</td>\n",
       "      <td>...</td>\n",
       "      <td>...</td>\n",
       "      <td>...</td>\n",
       "    </tr>\n",
       "    <tr>\n",
       "      <th>2020-03-09 12:21:28</th>\n",
       "      <td>0.026785</td>\n",
       "      <td>0.039082</td>\n",
       "      <td>1.051970</td>\n",
       "      <td>0.054711</td>\n",
       "      <td>69.4479</td>\n",
       "      <td>25.0272</td>\n",
       "      <td>230.109</td>\n",
       "      <td>32.0112</td>\n",
       "    </tr>\n",
       "    <tr>\n",
       "      <th>2020-03-09 12:21:29</th>\n",
       "      <td>0.027431</td>\n",
       "      <td>0.040196</td>\n",
       "      <td>1.384590</td>\n",
       "      <td>0.382638</td>\n",
       "      <td>69.1324</td>\n",
       "      <td>25.0281</td>\n",
       "      <td>231.135</td>\n",
       "      <td>32.9892</td>\n",
       "    </tr>\n",
       "    <tr>\n",
       "      <th>2020-03-09 12:21:30</th>\n",
       "      <td>0.027439</td>\n",
       "      <td>0.041003</td>\n",
       "      <td>1.005890</td>\n",
       "      <td>0.382638</td>\n",
       "      <td>69.4028</td>\n",
       "      <td>25.0294</td>\n",
       "      <td>225.592</td>\n",
       "      <td>32.0000</td>\n",
       "    </tr>\n",
       "    <tr>\n",
       "      <th>2020-03-09 12:21:31</th>\n",
       "      <td>0.026955</td>\n",
       "      <td>0.040168</td>\n",
       "      <td>1.142590</td>\n",
       "      <td>-0.273216</td>\n",
       "      <td>69.3366</td>\n",
       "      <td>25.0208</td>\n",
       "      <td>225.586</td>\n",
       "      <td>32.0112</td>\n",
       "    </tr>\n",
       "    <tr>\n",
       "      <th>2020-03-09 12:21:32</th>\n",
       "      <td>0.027204</td>\n",
       "      <td>0.040121</td>\n",
       "      <td>1.235270</td>\n",
       "      <td>0.054711</td>\n",
       "      <td>69.5264</td>\n",
       "      <td>25.0286</td>\n",
       "      <td>244.402</td>\n",
       "      <td>32.9892</td>\n",
       "    </tr>\n",
       "  </tbody>\n",
       "</table>\n",
       "<p>400 rows × 8 columns</p>\n",
       "</div>"
      ],
      "text/plain": [
       "                     Accelerometer1RMS  Accelerometer2RMS   Current  Pressure  \\\n",
       "datetime                                                                        \n",
       "2020-03-09 12:14:36           0.027429           0.040353  0.770310  0.382638   \n",
       "2020-03-09 12:14:37           0.027269           0.040226  1.096960  0.710565   \n",
       "2020-03-09 12:14:38           0.027040           0.039773  1.140150  0.054711   \n",
       "2020-03-09 12:14:39           0.027563           0.040313  1.108680 -0.273216   \n",
       "2020-03-09 12:14:41           0.026570           0.039566  0.704404  0.382638   \n",
       "...                                ...                ...       ...       ...   \n",
       "2020-03-09 12:21:28           0.026785           0.039082  1.051970  0.054711   \n",
       "2020-03-09 12:21:29           0.027431           0.040196  1.384590  0.382638   \n",
       "2020-03-09 12:21:30           0.027439           0.041003  1.005890  0.382638   \n",
       "2020-03-09 12:21:31           0.026955           0.040168  1.142590 -0.273216   \n",
       "2020-03-09 12:21:32           0.027204           0.040121  1.235270  0.054711   \n",
       "\n",
       "                     Temperature  Thermocouple  Voltage  Volume Flow RateRMS  \n",
       "datetime                                                                      \n",
       "2020-03-09 12:14:36      71.2129       25.0827  219.789              32.0000  \n",
       "2020-03-09 12:14:37      71.4284       25.0863  233.117              32.0104  \n",
       "2020-03-09 12:14:38      71.3468       25.0874  234.745              32.0000  \n",
       "2020-03-09 12:14:39      71.3258       25.0897  205.254              32.0104  \n",
       "2020-03-09 12:14:41      71.2725       25.0831  212.095              33.0000  \n",
       "...                          ...           ...      ...                  ...  \n",
       "2020-03-09 12:21:28      69.4479       25.0272  230.109              32.0112  \n",
       "2020-03-09 12:21:29      69.1324       25.0281  231.135              32.9892  \n",
       "2020-03-09 12:21:30      69.4028       25.0294  225.592              32.0000  \n",
       "2020-03-09 12:21:31      69.3366       25.0208  225.586              32.0112  \n",
       "2020-03-09 12:21:32      69.5264       25.0286  244.402              32.9892  \n",
       "\n",
       "[400 rows x 8 columns]"
      ]
     },
     "execution_count": 14,
     "metadata": {},
     "output_type": "execute_result"
    }
   ],
   "source": [
    "Xy_traintest_list = load_preprocess_skab()\n",
    "Xy_traintest_list[0][0]"
   ]
  },
  {
   "cell_type": "markdown",
   "metadata": {},
   "source": [
    "## Method"
   ]
  },
  {
   "cell_type": "markdown",
   "metadata": {
    "tags": []
   },
   "source": [
    "### Method initialization"
   ]
  },
  {
   "cell_type": "code",
   "execution_count": 3,
   "metadata": {},
   "outputs": [],
   "source": [
    "# hyperparameters selection\n",
    "EPOCHS = 100\n",
    "BATCH_SIZE = 32\n",
    "VAL_SPLIT = 0.1\n",
    "N_STEPS = 10\n",
    "Q = 0.99  # quantile for upper control limit (UCL) selection\n",
    "PARAM = [EPOCHS, BATCH_SIZE, VAL_SPLIT]"
   ]
  },
  {
   "cell_type": "code",
   "execution_count": 6,
   "metadata": {},
   "outputs": [],
   "source": [
    "model = LSTM_AE(PARAM)\n"
   ]
  },
  {
   "cell_type": "markdown",
   "metadata": {},
   "source": [
    "### Method fitting and applying"
   ]
  },
  {
   "cell_type": "code",
   "execution_count": 7,
   "metadata": {},
   "outputs": [
    {
     "name": "stdout",
     "output_type": "stream",
     "text": [
      "WARNING:tensorflow:Layer lstm will not use cuDNN kernels since it doesn't meet the criteria. It will use a generic GPU kernel as fallback when running on GPU.\n"
     ]
    },
    {
     "name": "stderr",
     "output_type": "stream",
     "text": [
      "2024-09-13 17:06:50.783380: I metal_plugin/src/device/metal_device.cc:1154] Metal device set to: Apple M1 Pro\n",
      "2024-09-13 17:06:50.783450: I metal_plugin/src/device/metal_device.cc:296] systemMemory: 16.00 GB\n",
      "2024-09-13 17:06:50.783466: I metal_plugin/src/device/metal_device.cc:313] maxCacheSize: 5.33 GB\n",
      "2024-09-13 17:06:50.784522: I tensorflow/core/common_runtime/pluggable_device/pluggable_device_factory.cc:306] Could not identify NUMA node of platform GPU ID 0, defaulting to 0. Your kernel may not have been built with NUMA support.\n",
      "2024-09-13 17:06:50.784963: I tensorflow/core/common_runtime/pluggable_device/pluggable_device_factory.cc:272] Created TensorFlow device (/job:localhost/replica:0/task:0/device:GPU:0 with 0 MB memory) -> physical PluggableDevice (device: 0, name: METAL, pci bus id: <undefined>)\n"
     ]
    },
    {
     "name": "stdout",
     "output_type": "stream",
     "text": [
      "WARNING:tensorflow:Layer lstm_1 will not use cuDNN kernels since it doesn't meet the criteria. It will use a generic GPU kernel as fallback when running on GPU.\n"
     ]
    },
    {
     "ename": "",
     "evalue": "",
     "output_type": "error",
     "traceback": [
      "\u001b[1;31m在当前单元格或上一个单元格中执行代码时 Kernel 崩溃。\n",
      "\u001b[1;31m请查看单元格中的代码，以确定故障的可能原因。\n",
      "\u001b[1;31m单击<a href='https://aka.ms/vscodeJupyterKernelCrash'>此处</a>了解详细信息。\n",
      "\u001b[1;31m有关更多详细信息，请查看 Jupyter <a href='command:jupyter.viewOutput'>log</a>。"
     ]
    }
   ],
   "source": [
    "# inference\n",
    "predicted_outlier, predicted_cp = [], []\n",
    "true_outlier, true_cp = [], []\n",
    "for X_train, X_test, y_train, y_test in Xy_traintest_list:\n",
    "    # scaler init and fitting\n",
    "    StSc = StandardScaler()\n",
    "    StSc.fit(X_train)\n",
    "\n",
    "    # convert into input/output\n",
    "    X = create_sequences(StSc.transform(X_train), N_STEPS)\n",
    "\n",
    "    # model fitting\n",
    "    # history, model = arch(X)\n",
    "    model.fit(X)\n",
    "\n",
    "    # results predicting\n",
    "    residuals = pd.Series(\n",
    "        np.sum(np.mean(np.abs(X - model.predict(X)), axis=1), axis=1)\n",
    "    )\n",
    "    UCL = residuals.quantile(Q) * 3 / 2\n",
    "\n",
    "    # results predicting\n",
    "    X = create_sequences(StSc.transform(X_test), N_STEPS)\n",
    "    cnn_residuals = pd.Series(\n",
    "        np.sum(np.mean(np.abs(X - model.predict(X)), axis=1), axis=1)\n",
    "    )\n",
    "\n",
    "    # data i is an anomaly if samples [(i - timesteps + 1) to (i)] are anomalies\n",
    "    anomalous_data = cnn_residuals > UCL\n",
    "    anomalous_data_indices = []\n",
    "    for data_idx in range(N_STEPS - 1, len(X) - N_STEPS + 1):\n",
    "        if np.all(anomalous_data[data_idx - N_STEPS + 1 : data_idx]):\n",
    "            anomalous_data_indices.append(data_idx)\n",
    "\n",
    "    prediction = pd.Series(data=0, index=X_test.index)\n",
    "    prediction.iloc[anomalous_data_indices] = 1\n",
    "\n",
    "    # predicted outliers saving\n",
    "    predicted_outlier.append(prediction)\n",
    "\n",
    "    # predicted CPs saving\n",
    "    prediction_cp = abs(prediction.diff())\n",
    "    prediction_cp[0] = prediction[0]\n",
    "    predicted_cp.append(prediction_cp)\n",
    "\n",
    "    true_outlier.append(y_test[\"anomaly\"])\n",
    "    true_cp.append(y_test[\"changepoint\"])"
   ]
  },
  {
   "cell_type": "markdown",
   "metadata": {},
   "source": [
    "### Results visualization"
   ]
  },
  {
   "cell_type": "code",
   "execution_count": null,
   "metadata": {},
   "outputs": [
    {
     "data": {
      "image/png": "[encoded data removed]",
      "text/plain": [
       "<Figure size 1200x600 with 2 Axes>"
      ]
     },
     "metadata": {},
     "output_type": "display_data"
    }
   ],
   "source": [
    "# [donotremove]\n",
    "plot_results(\n",
    "    (true_outlier[1], predicted_outlier[1]),\n",
    "    (true_cp[1], predicted_cp[1]),\n",
    ")"
   ]
  },
  {
   "cell_type": "markdown",
   "metadata": {},
   "source": [
    "## Evaluation (metrics calculation)"
   ]
  },
  {
   "cell_type": "code",
   "execution_count": null,
   "metadata": {},
   "outputs": [],
   "source": [
    "import pickle\n",
    "\n",
    "pickle.dump(\n",
    "    predicted_outlier,\n",
    "    open(f\"../results/results-{model.__class__.__name__}.pkl\", \"wb\"),\n",
    ")"
   ]
  },
  {
   "cell_type": "markdown",
   "metadata": {},
   "source": [
    "### Binary classification (outlier detection) metrics"
   ]
  },
  {
   "cell_type": "code",
   "execution_count": null,
   "metadata": {},
   "outputs": [
    {
     "name": "stdout",
     "output_type": "stream",
     "text": [
      "False Alarm Rate 29.96 %\n",
      "Missing Alarm Rate 25.92 %\n",
      "F1 metric 0.74\n"
     ]
    }
   ],
   "source": [
    "# [donotremove]\n",
    "# binary classification metrics calculation\n",
    "binary = chp_score(true_outlier, predicted_outlier, metric=\"binary\")"
   ]
  },
  {
   "cell_type": "markdown",
   "metadata": {},
   "source": [
    "### Changepoint detection metrics"
   ]
  },
  {
   "cell_type": "code",
   "execution_count": null,
   "metadata": {},
   "outputs": [
    {
     "name": "stdout",
     "output_type": "stream",
     "text": [
      "Amount of true anomalies 127\n",
      "A number of missed CPs = 88\n",
      "A number of FPs = 69\n",
      "Average time 0 days 00:00:17\n"
     ]
    }
   ],
   "source": [
    "# [donotremove]\n",
    "# average detection delay metric calculation\n",
    "add = chp_score(\n",
    "    true_cp,\n",
    "    predicted_cp,\n",
    "    metric=\"average_time\",\n",
    "    window_width=\"60s\",\n",
    "    anomaly_window_destination=\"righter\",\n",
    ")"
   ]
  },
  {
   "cell_type": "code",
   "execution_count": null,
   "metadata": {},
   "outputs": [
    {
     "name": "stdout",
     "output_type": "stream",
     "text": [
      "Standard  -  23.51\n",
      "LowFP  -  20.11\n",
      "LowFN  -  25.91\n"
     ]
    }
   ],
   "source": [
    "# [donotremove]\n",
    "# nab metric calculation\n",
    "nab = chp_score(\n",
    "    true_cp,\n",
    "    predicted_cp,\n",
    "    metric=\"nab\",\n",
    "    window_width=\"60s\",\n",
    "    anomaly_window_destination=\"righter\",\n",
    ")"
   ]
  }
 ],
 "metadata": {
  "kernelspec": {
   "display_name": "base",
   "language": "python",
   "name": "python3"
  },
  "language_info": {
   "codemirror_mode": {
    "name": "ipython",
    "version": 3
   },
   "file_extension": ".py",
   "mimetype": "text/x-python",
   "name": "python",
   "nbconvert_exporter": "python",
   "pygments_lexer": "ipython3",
   "version": "3.11.5"
  }
 },
 "nbformat": 4,
 "nbformat_minor": 4
}
